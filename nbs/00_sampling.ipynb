{
 "cells": [
  {
   "cell_type": "markdown",
   "metadata": {},
   "source": [
    "# Sampling Methods\n",
    "\n",
    "> This module helps to sample a statistical distrubution for further comparison. "
   ]
  },
  {
   "cell_type": "code",
   "execution_count": null,
   "metadata": {},
   "outputs": [],
   "source": [
    "#| default_exp sampling"
   ]
  },
  {
   "cell_type": "code",
   "execution_count": null,
   "metadata": {},
   "outputs": [],
   "source": [
    "#| hide\n",
    "import pandas as pd\n",
    "import os\n",
    "import time\n",
    "import torch\n",
    "import gc\n",
    "import seaborn as sns\n",
    "from scipy import stats\n",
    "import matplotlib.pyplot as plt"
   ]
  },
  {
   "cell_type": "code",
   "execution_count": null,
   "metadata": {},
   "outputs": [],
   "source": [
    "#| export\n",
    "import logging\n",
    "logging.basicConfig(\n",
    "    filename=\"logger_sampling.txt\",\n",
    "    filemode='a',\n",
    "    format='%(asctime)s : %(levelname)s : %(message)s', \n",
    "    level=logging.INFO\n",
    "    )"
   ]
  },
  {
   "cell_type": "code",
   "execution_count": null,
   "metadata": {},
   "outputs": [],
   "source": [
    "#| export\n",
    "import numpy as np\n",
    "from statistics import NormalDist"
   ]
  },
  {
   "cell_type": "markdown",
   "metadata": {},
   "source": [
    "## Bootstrapping\n",
    "Create a bootstrap sample given data and a function. For instance, a bootstrap sample of means, or mediands. The bootstrap replicates are a long as the original size we can choose any observation more than once (resampling with replacement:np.random.choice)"
   ]
  },
  {
   "cell_type": "code",
   "execution_count": null,
   "metadata": {},
   "outputs": [],
   "source": [
    "#| export\n",
    "def bootstrapping( np_data, np_func, size, flag_clean_nan = False ):\n",
    "    \"\"\"\n",
    "    @size: number of bootstrapping samples\n",
    "    @np_funct: numpy function for reducing the samples (e.g., median, mean, max)\n",
    "    @flag_clean_nan: flag to eliminate Nan values in the np tensor\n",
    "    \"\"\"\n",
    "    #Cleaning NaNs\n",
    "    if flag_clean_nan:\n",
    "        np_data = np_data[ np.logical_not( np.isnan(np_data) ) ] \n",
    "    \n",
    "    #Creating the boostrap replicates as long as the original data size\n",
    "    #This strategy might work as imputation \n",
    "    bootstrap_repl = [ np_func( np.random.choice( np_data, size=len(np_data) ) ) for i in range( size ) ]\n",
    "    \n",
    "    logging.info(\"Empirical Estimate: \" + str(np_func( np_data )) ) #Empirical Mean,Median,Max, etc\n",
    "    logging.info(\"Bootstrapped Estimate: \" + str( np_func( bootstrap_repl ) ) ) #Bootstrapped Mean,Median,Max, etc\n",
    "    \n",
    "    return np.array( bootstrap_repl )"
   ]
  },
  {
   "cell_type": "markdown",
   "metadata": {},
   "source": [
    "### Confidence Intervals\n",
    "To compute a confidence interval from sample data, it is used the z-score. Here we assume that the sample size is big enough to use the standard normal distribution rather than the student's t distribution to compute the z value (Ref: [link](https://stackoverflow.com/questions/15033511/compute-a-confidence-interval-from-sample-data)). "
   ]
  },
  {
   "cell_type": "code",
   "execution_count": null,
   "metadata": {},
   "outputs": [],
   "source": [
    "#| export\n",
    "def confidence_intervals_large_samples(data, confidence=0.95):\n",
    "    \"\"\"\n",
    "    @confidence: confidence interval \n",
    "    @return: tuple (lowerbound, uperbound, h-value)\n",
    "    \"\"\"\n",
    "    dist = NormalDist.from_samples( data )\n",
    "    z = NormalDist().inv_cdf((1 + confidence) / 2.)\n",
    "    h = dist.stdev * z / ((len(data) - 1) ** .5)\n",
    "    return dist.mean - h, dist.mean + h, h"
   ]
  },
  {
   "cell_type": "markdown",
   "metadata": {},
   "source": [
    "### Standard Error\n",
    "This partiruclar estimand is for computing the error of measured metric from a boostrapping."
   ]
  },
  {
   "cell_type": "code",
   "execution_count": null,
   "metadata": {},
   "outputs": [],
   "source": [
    "#| export\n",
    "def standard_error(bootstrapped_data):\n",
    "    return np.std( bootstrapped_data )"
   ]
  },
  {
   "cell_type": "markdown",
   "metadata": {},
   "source": [
    "# Testing"
   ]
  },
  {
   "cell_type": "code",
   "execution_count": null,
   "metadata": {},
   "outputs": [],
   "source": [
    "galeras_pd = pd.read_json( '/workspaces/StatisticalFace/semeru-datasets/semeru/galeras/galeras_se_tasks_dataset_3k_deduplicated/code_completion_dataset_3k_deduped.json' )"
   ]
  },
  {
   "cell_type": "code",
   "execution_count": null,
   "metadata": {},
   "outputs": [
    {
     "data": {
      "text/html": [
       "<div>\n",
       "<style scoped>\n",
       "    .dataframe tbody tr th:only-of-type {\n",
       "        vertical-align: middle;\n",
       "    }\n",
       "\n",
       "    .dataframe tbody tr th {\n",
       "        vertical-align: top;\n",
       "    }\n",
       "\n",
       "    .dataframe thead th {\n",
       "        text-align: right;\n",
       "    }\n",
       "</style>\n",
       "<table border=\"1\" class=\"dataframe\">\n",
       "  <thead>\n",
       "    <tr style=\"text-align: right;\">\n",
       "      <th></th>\n",
       "      <th>id</th>\n",
       "      <th>n_ast_errors</th>\n",
       "      <th>ast_levels</th>\n",
       "      <th>n_whitespaces</th>\n",
       "      <th>n_words</th>\n",
       "      <th>vocab_size</th>\n",
       "      <th>complexity</th>\n",
       "      <th>nloc</th>\n",
       "      <th>token_counts</th>\n",
       "      <th>n_ast_nodes</th>\n",
       "      <th>n_identifiers</th>\n",
       "    </tr>\n",
       "  </thead>\n",
       "  <tbody>\n",
       "    <tr>\n",
       "      <th>count</th>\n",
       "      <td>2931.000000</td>\n",
       "      <td>2931.000000</td>\n",
       "      <td>2931.000000</td>\n",
       "      <td>2931.000000</td>\n",
       "      <td>2931.000000</td>\n",
       "      <td>2931.000000</td>\n",
       "      <td>2931.000000</td>\n",
       "      <td>2931.000000</td>\n",
       "      <td>2931.000000</td>\n",
       "      <td>2931.000000</td>\n",
       "      <td>2931.000000</td>\n",
       "    </tr>\n",
       "    <tr>\n",
       "      <th>mean</th>\n",
       "      <td>156450.464347</td>\n",
       "      <td>0.101672</td>\n",
       "      <td>12.220744</td>\n",
       "      <td>220.087001</td>\n",
       "      <td>60.243262</td>\n",
       "      <td>40.125554</td>\n",
       "      <td>3.053907</td>\n",
       "      <td>17.722279</td>\n",
       "      <td>123.120778</td>\n",
       "      <td>202.667690</td>\n",
       "      <td>17.425793</td>\n",
       "    </tr>\n",
       "    <tr>\n",
       "      <th>std</th>\n",
       "      <td>92465.983718</td>\n",
       "      <td>0.304518</td>\n",
       "      <td>3.025950</td>\n",
       "      <td>443.775386</td>\n",
       "      <td>86.843623</td>\n",
       "      <td>40.784097</td>\n",
       "      <td>5.197449</td>\n",
       "      <td>24.543615</td>\n",
       "      <td>158.555402</td>\n",
       "      <td>242.136645</td>\n",
       "      <td>12.794952</td>\n",
       "    </tr>\n",
       "    <tr>\n",
       "      <th>min</th>\n",
       "      <td>280.000000</td>\n",
       "      <td>0.000000</td>\n",
       "      <td>4.000000</td>\n",
       "      <td>4.000000</td>\n",
       "      <td>3.000000</td>\n",
       "      <td>3.000000</td>\n",
       "      <td>1.000000</td>\n",
       "      <td>2.000000</td>\n",
       "      <td>7.000000</td>\n",
       "      <td>10.000000</td>\n",
       "      <td>1.000000</td>\n",
       "    </tr>\n",
       "    <tr>\n",
       "      <th>25%</th>\n",
       "      <td>75496.500000</td>\n",
       "      <td>0.000000</td>\n",
       "      <td>10.000000</td>\n",
       "      <td>52.000000</td>\n",
       "      <td>19.000000</td>\n",
       "      <td>17.000000</td>\n",
       "      <td>1.000000</td>\n",
       "      <td>6.000000</td>\n",
       "      <td>42.500000</td>\n",
       "      <td>73.000000</td>\n",
       "      <td>9.000000</td>\n",
       "    </tr>\n",
       "    <tr>\n",
       "      <th>50%</th>\n",
       "      <td>154885.000000</td>\n",
       "      <td>0.000000</td>\n",
       "      <td>12.000000</td>\n",
       "      <td>105.000000</td>\n",
       "      <td>34.000000</td>\n",
       "      <td>28.000000</td>\n",
       "      <td>1.000000</td>\n",
       "      <td>11.000000</td>\n",
       "      <td>76.000000</td>\n",
       "      <td>128.000000</td>\n",
       "      <td>14.000000</td>\n",
       "    </tr>\n",
       "    <tr>\n",
       "      <th>75%</th>\n",
       "      <td>241670.000000</td>\n",
       "      <td>0.000000</td>\n",
       "      <td>14.000000</td>\n",
       "      <td>232.500000</td>\n",
       "      <td>71.000000</td>\n",
       "      <td>50.500000</td>\n",
       "      <td>3.000000</td>\n",
       "      <td>20.000000</td>\n",
       "      <td>147.000000</td>\n",
       "      <td>242.000000</td>\n",
       "      <td>22.000000</td>\n",
       "    </tr>\n",
       "    <tr>\n",
       "      <th>max</th>\n",
       "      <td>338614.000000</td>\n",
       "      <td>2.000000</td>\n",
       "      <td>28.000000</td>\n",
       "      <td>13912.000000</td>\n",
       "      <td>1945.000000</td>\n",
       "      <td>677.000000</td>\n",
       "      <td>151.000000</td>\n",
       "      <td>546.000000</td>\n",
       "      <td>3772.000000</td>\n",
       "      <td>3598.000000</td>\n",
       "      <td>157.000000</td>\n",
       "    </tr>\n",
       "  </tbody>\n",
       "</table>\n",
       "</div>"
      ],
      "text/plain": [
       "                  id  n_ast_errors   ast_levels  n_whitespaces      n_words  \\\n",
       "count    2931.000000   2931.000000  2931.000000    2931.000000  2931.000000   \n",
       "mean   156450.464347      0.101672    12.220744     220.087001    60.243262   \n",
       "std     92465.983718      0.304518     3.025950     443.775386    86.843623   \n",
       "min       280.000000      0.000000     4.000000       4.000000     3.000000   \n",
       "25%     75496.500000      0.000000    10.000000      52.000000    19.000000   \n",
       "50%    154885.000000      0.000000    12.000000     105.000000    34.000000   \n",
       "75%    241670.000000      0.000000    14.000000     232.500000    71.000000   \n",
       "max    338614.000000      2.000000    28.000000   13912.000000  1945.000000   \n",
       "\n",
       "        vocab_size   complexity         nloc  token_counts  n_ast_nodes  \\\n",
       "count  2931.000000  2931.000000  2931.000000   2931.000000  2931.000000   \n",
       "mean     40.125554     3.053907    17.722279    123.120778   202.667690   \n",
       "std      40.784097     5.197449    24.543615    158.555402   242.136645   \n",
       "min       3.000000     1.000000     2.000000      7.000000    10.000000   \n",
       "25%      17.000000     1.000000     6.000000     42.500000    73.000000   \n",
       "50%      28.000000     1.000000    11.000000     76.000000   128.000000   \n",
       "75%      50.500000     3.000000    20.000000    147.000000   242.000000   \n",
       "max     677.000000   151.000000   546.000000   3772.000000  3598.000000   \n",
       "\n",
       "       n_identifiers  \n",
       "count    2931.000000  \n",
       "mean       17.425793  \n",
       "std        12.794952  \n",
       "min         1.000000  \n",
       "25%         9.000000  \n",
       "50%        14.000000  \n",
       "75%        22.000000  \n",
       "max       157.000000  "
      ]
     },
     "execution_count": null,
     "metadata": {},
     "output_type": "execute_result"
    }
   ],
   "source": [
    "galeras_pd.describe()"
   ]
  },
  {
   "cell_type": "code",
   "execution_count": null,
   "metadata": {},
   "outputs": [],
   "source": [
    "complexity_median_np = bootstrapping( galeras_pd.complexity.values, np_func=np.median, size=500, flag_clean_nan = False ) #Bootstrapped Complexity"
   ]
  },
  {
   "cell_type": "code",
   "execution_count": null,
   "metadata": {},
   "outputs": [],
   "source": [
    "complexity_mean_np = bootstrapping( galeras_pd.complexity.values, np_func=np.mean, size=500, flag_clean_nan = False ) #Bootstrapped Complexity"
   ]
  },
  {
   "cell_type": "code",
   "execution_count": null,
   "metadata": {},
   "outputs": [
    {
     "data": {
      "text/plain": [
       "(1.0, 3.049542135789833)"
      ]
     },
     "execution_count": null,
     "metadata": {},
     "output_type": "execute_result"
    }
   ],
   "source": [
    "#Bootrapped Estimates\n",
    "np.median( complexity_median_np ) , np.mean( complexity_mean_np )"
   ]
  },
  {
   "cell_type": "code",
   "execution_count": null,
   "metadata": {},
   "outputs": [
    {
     "data": {
      "text/plain": [
       "(0.4730285403651666, 0.0945633551509999)"
      ]
     },
     "execution_count": null,
     "metadata": {},
     "output_type": "execute_result"
    }
   ],
   "source": [
    "#Standard Errors\n",
    "standard_error(complexity_median_np), standard_error(complexity_mean_np)"
   ]
  },
  {
   "cell_type": "code",
   "execution_count": null,
   "metadata": {},
   "outputs": [],
   "source": [
    "## Confidence Interval Estimates\n",
    "test_confidence_cyclo_median = confidence_intervals_large_samples(data = complexity_median_np, confidence=0.95)"
   ]
  },
  {
   "cell_type": "code",
   "execution_count": null,
   "metadata": {},
   "outputs": [
    {
     "data": {
      "text/plain": [
       "(1.296454891987364, 1.3795451080126362, 0.04154510801263605)"
      ]
     },
     "execution_count": null,
     "metadata": {},
     "output_type": "execute_result"
    }
   ],
   "source": [
    "test_confidence_cyclo_median"
   ]
  },
  {
   "cell_type": "code",
   "execution_count": null,
   "metadata": {},
   "outputs": [],
   "source": [
    "test_confidence_cyclo_mean = confidence_intervals_large_samples(data = complexity_mean_np, confidence=0.95)"
   ]
  },
  {
   "cell_type": "code",
   "execution_count": null,
   "metadata": {},
   "outputs": [
    {
     "data": {
      "text/plain": [
       "(3.041236833955925, 3.05784743762374, 0.008305301833907814)"
      ]
     },
     "execution_count": null,
     "metadata": {},
     "output_type": "execute_result"
    }
   ],
   "source": [
    "test_confidence_cyclo_mean"
   ]
  },
  {
   "cell_type": "code",
   "execution_count": null,
   "metadata": {},
   "outputs": [],
   "source": [
    "! nbdev_export"
   ]
  }
 ],
 "metadata": {
  "kernelspec": {
   "display_name": "python3",
   "language": "python",
   "name": "python3"
  }
 },
 "nbformat": 4,
 "nbformat_minor": 4
}
